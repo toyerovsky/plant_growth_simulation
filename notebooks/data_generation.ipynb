{
 "cells": [
  {
   "cell_type": "markdown",
   "metadata": {},
   "source": []
  },
  {
   "cell_type": "markdown",
   "metadata": {},
   "source": [
    "## Projekt Symulacja Komputerowa - Symulacja wzrostu roślin\n",
    "## Przemysław Postrach\n",
    "## Informatyka - Studia Niestacjonarne 2022\n",
    "## Wydział Elektrotechniki, Automatyki i Informatyki"
   ]
  },
  {
   "cell_type": "markdown",
   "metadata": {},
   "source": [
    "Celem projektu jest opracowanie oprogramowania mającego na celu symulację wzrostu roślin. Oprogramowanie zrealizowano przy użyciu języka Python i notatnika Jupyter.\n",
    "\n",
    "Używane biblioteki\n",
    "- Faker - Generowanie losowych danych\n",
    "- Pandas - Obsługa CSV oraz elementów statystycznych\n",
    "- Altair - Rysowanie wykresów na podstawie wygenerowanych danych\n",
    "\n",
    "Projekt został przedstawiony w formie notatnika Jupyter, dzięki temu zaprezentowano cały jego działający kod, który zamieszczono poniżej. W symulacji wygenerowano dane dla stu tysięcy roślin."
   ]
  },
  {
   "cell_type": "code",
   "execution_count": 43,
   "metadata": {},
   "outputs": [],
   "source": [
    "# Ustalanie prawdopodobieństw wag dla zdarzeń związanych ze wzrostem roślin"
   ]
  },
  {
   "cell_type": "markdown",
   "metadata": {},
   "source": [
    "## Gleba\n",
    "Waga 0.1 najbardziej niekorzystna gleba - 10%\\\n",
    "Waga 0.4 niekorzystna gleba - 20%\\\n",
    "Waga 0.7 niekorzystna gleba - 40%\\\n",
    "Waga 1.0 gleba normalna - 20%\\\n",
    "Waga 1.3 gleba sprzyjająca rozwojowi rośliny - 10%"
   ]
  },
  {
   "cell_type": "code",
   "execution_count": 44,
   "metadata": {},
   "outputs": [],
   "source": [
    "soil = [(0.1, 0.1), (0.4, 0.2), (0.7, 0.4), (1.0, 0.2), (1.3, 0.1)]"
   ]
  },
  {
   "cell_type": "markdown",
   "metadata": {},
   "source": [
    "## Wilgotność\n",
    "Waga 0.0 roślina umiera z powodu przelania - 5%\\\n",
    "Waga 0.2 roślina ma zdecydowanie za dużo wody - 10%\\\n",
    "Waga 0.4 roślina ma o wiele za dużo wody - 15%\\\n",
    "Waga 0.6 roślina ma za dużo wody - 25%\\\n",
    "Waga 0.8 roślina ma trochę za dużo wody - 25%\\\n",
    "Waga 1.0 roślina ma dobrą ilość wody - 10%\\\n",
    "Waga 1.2 roślina ma idealną ilość wody - 10%"
   ]
  },
  {
   "cell_type": "code",
   "execution_count": 45,
   "metadata": {},
   "outputs": [],
   "source": [
    "humidity = [(0.0, 0.05), (0.2, 0.1), (0.4, 0.15), (0.6, 0.25), (0.8, 0.25), (1.0, 0.1), (1.2, 0.1)]"
   ]
  },
  {
   "cell_type": "markdown",
   "metadata": {},
   "source": [
    "## Słońce\n",
    "Waga 0.6 roślina cierpi na duży brak słońca - 10%\\\n",
    "Waga 0.8 roślina cierpi na niewielki brak słońca - 25%\\\n",
    "Waga 1.0 roślina posiada normalną ilość światła słonecznego - 30%\\\n",
    "Waga 1.2 roślina posiada bardzo dobrą ilość światła słonecznego - 25%\\\n",
    "Waga 1.4 roślina posiada idealną ilość światła słonecznego - 10%"
   ]
  },
  {
   "cell_type": "code",
   "execution_count": 46,
   "metadata": {},
   "outputs": [],
   "source": [
    "sun = [(0.6, 0.1), (0.8, 0.25), (1.0, 0.3), (1.2, 0.25), (1.4, 0.1)]"
   ]
  },
  {
   "cell_type": "markdown",
   "metadata": {},
   "source": [
    "## Zdarzenia losowe\n",
    "Waga 0.0 roślina umiera z powodu zdarzeń losowych np. stała się pożywieniem dla ptactwa - 1%\\\n",
    "Waga 0.5 roślina ma utrudniony rozwój ze względu na zdarzenia losowe np. porywisty wiatr - 19%\\\n",
    "Waga 1.0 roślina nie cierpi ze względu na żadne zdarzenia losowe - 80%"
   ]
  },
  {
   "cell_type": "code",
   "execution_count": 47,
   "metadata": {},
   "outputs": [],
   "source": [
    "random_events = [(0.0, 0.01), (0.5, 0.19), (1.0, 0.8)]"
   ]
  },
  {
   "cell_type": "code",
   "execution_count": 48,
   "metadata": {},
   "outputs": [],
   "source": [
    "# import biblioteki Faker potrzebnej do generowania losowych danych na\n",
    "# podstawie wcześniej ustalonych wag\n",
    "from faker import Faker\n",
    "# import biblioteki pandas która posłuży jako moduł statystyczny\n",
    "import pandas as pd\n",
    "\n",
    "class Plant:\n",
    "    '''Klasa reprezentująca roślinę'''\n",
    "    def __init__(self, fake: Faker, plant_id: int):\n",
    "        self.id = plant_id\n",
    "        # Losowanie gleby dla rośliny\n",
    "        self.soil = fake.random_choices(elements=soil, length=1)[0][0]\n",
    "        # Losowanie wilgotności dla rośliny\n",
    "        self.humidity = fake.random_choices(elements=humidity, length=1)[0][0]\n",
    "        # Losowanie wartości nasłonecznienia dla rośliny\n",
    "        self.sun = fake.random_choices(elements=sun, length=1)[0][0]\n",
    "        # Losowanie wartości zdarzeń losowych dla rośliny\n",
    "        self.random_events = fake.random_choices(elements=random_events, length=1)[0][0]\n",
    "        # Obliczenie wyniku symulacji poprzez przemnożenie wszystkich elementów\n",
    "        self.result = self.soil * self.humidity * self.sun * self.random_events\n",
    "\n",
    "def generate_plants(fake: Faker, count=100_000):\n",
    "    '''Funkcja generująca dane na temat roślin'''\n",
    "    for i in range(count):\n",
    "        yield Plant(fake, i)"
   ]
  },
  {
   "cell_type": "code",
   "execution_count": 49,
   "metadata": {},
   "outputs": [],
   "source": [
    "# Tworzenie instancji Faker\n",
    "fake = Faker(['pl-PL'])\n",
    "# Wczytywanie wygenerowanych danych do ramki danych biblioteki pandas\n",
    "df = pd.DataFrame(map(lambda x: x.__dict__, generate_plants(fake)))"
   ]
  },
  {
   "cell_type": "code",
   "execution_count": 50,
   "metadata": {},
   "outputs": [
    {
     "name": "stdout",
     "output_type": "stream",
     "text": [
      "<class 'pandas.core.frame.DataFrame'>\n",
      "RangeIndex: 100000 entries, 0 to 99999\n",
      "Data columns (total 6 columns):\n",
      " #   Column         Non-Null Count   Dtype  \n",
      "---  ------         --------------   -----  \n",
      " 0   id             100000 non-null  int64  \n",
      " 1   soil           100000 non-null  float64\n",
      " 2   humidity       100000 non-null  float64\n",
      " 3   sun            100000 non-null  float64\n",
      " 4   random_events  100000 non-null  float64\n",
      " 5   result         100000 non-null  float64\n",
      "dtypes: float64(5), int64(1)\n",
      "memory usage: 4.6 MB\n"
     ]
    }
   ],
   "source": [
    "# Wyświetlenie kolumn w ramce danych\n",
    "df.info()"
   ]
  },
  {
   "cell_type": "code",
   "execution_count": 51,
   "metadata": {},
   "outputs": [
    {
     "data": {
      "text/plain": "   id  soil  humidity  sun  random_events  result\n0   0   0.4       0.0  1.2            1.0   0.000\n1   1   1.3       0.2  1.2            0.0   0.000\n2   2   0.4       0.8  1.4            1.0   0.448\n3   3   0.4       0.4  1.4            1.0   0.224\n4   4   0.1       0.8  1.4            0.5   0.056",
      "text/html": "<div>\n<style scoped>\n    .dataframe tbody tr th:only-of-type {\n        vertical-align: middle;\n    }\n\n    .dataframe tbody tr th {\n        vertical-align: top;\n    }\n\n    .dataframe thead th {\n        text-align: right;\n    }\n</style>\n<table border=\"1\" class=\"dataframe\">\n  <thead>\n    <tr style=\"text-align: right;\">\n      <th></th>\n      <th>id</th>\n      <th>soil</th>\n      <th>humidity</th>\n      <th>sun</th>\n      <th>random_events</th>\n      <th>result</th>\n    </tr>\n  </thead>\n  <tbody>\n    <tr>\n      <th>0</th>\n      <td>0</td>\n      <td>0.4</td>\n      <td>0.0</td>\n      <td>1.2</td>\n      <td>1.0</td>\n      <td>0.000</td>\n    </tr>\n    <tr>\n      <th>1</th>\n      <td>1</td>\n      <td>1.3</td>\n      <td>0.2</td>\n      <td>1.2</td>\n      <td>0.0</td>\n      <td>0.000</td>\n    </tr>\n    <tr>\n      <th>2</th>\n      <td>2</td>\n      <td>0.4</td>\n      <td>0.8</td>\n      <td>1.4</td>\n      <td>1.0</td>\n      <td>0.448</td>\n    </tr>\n    <tr>\n      <th>3</th>\n      <td>3</td>\n      <td>0.4</td>\n      <td>0.4</td>\n      <td>1.4</td>\n      <td>1.0</td>\n      <td>0.224</td>\n    </tr>\n    <tr>\n      <th>4</th>\n      <td>4</td>\n      <td>0.1</td>\n      <td>0.8</td>\n      <td>1.4</td>\n      <td>0.5</td>\n      <td>0.056</td>\n    </tr>\n  </tbody>\n</table>\n</div>"
     },
     "execution_count": 51,
     "metadata": {},
     "output_type": "execute_result"
    }
   ],
   "source": [
    "# Wyświetlanie pierwszych pięciu wyników symulacji\n",
    "df.head()"
   ]
  },
  {
   "cell_type": "code",
   "execution_count": 52,
   "metadata": {},
   "outputs": [
    {
     "data": {
      "text/plain": "                  id           soil       humidity            sun  \\\ncount  100000.000000  100000.000000  100000.000000  100000.000000   \nmean    49999.500000       0.701449       0.597558       0.999458   \nstd     28867.657797       0.423974       0.399615       0.283182   \nmin         0.000000       0.100000       0.000000       0.600000   \n25%     24999.750000       0.400000       0.200000       0.800000   \n50%     49999.500000       0.700000       0.600000       1.000000   \n75%     74999.250000       1.000000       1.000000       1.200000   \nmax     99999.000000       1.300000       1.200000       1.400000   \n\n       random_events         result  \ncount  100000.000000  100000.000000  \nmean        0.500165       0.209859  \nstd         0.408184       0.335790  \nmin         0.000000       0.000000  \n25%         0.000000       0.000000  \n50%         0.500000       0.048000  \n75%         1.000000       0.300000  \nmax         1.000000       2.184000  ",
      "text/html": "<div>\n<style scoped>\n    .dataframe tbody tr th:only-of-type {\n        vertical-align: middle;\n    }\n\n    .dataframe tbody tr th {\n        vertical-align: top;\n    }\n\n    .dataframe thead th {\n        text-align: right;\n    }\n</style>\n<table border=\"1\" class=\"dataframe\">\n  <thead>\n    <tr style=\"text-align: right;\">\n      <th></th>\n      <th>id</th>\n      <th>soil</th>\n      <th>humidity</th>\n      <th>sun</th>\n      <th>random_events</th>\n      <th>result</th>\n    </tr>\n  </thead>\n  <tbody>\n    <tr>\n      <th>count</th>\n      <td>100000.000000</td>\n      <td>100000.000000</td>\n      <td>100000.000000</td>\n      <td>100000.000000</td>\n      <td>100000.000000</td>\n      <td>100000.000000</td>\n    </tr>\n    <tr>\n      <th>mean</th>\n      <td>49999.500000</td>\n      <td>0.701449</td>\n      <td>0.597558</td>\n      <td>0.999458</td>\n      <td>0.500165</td>\n      <td>0.209859</td>\n    </tr>\n    <tr>\n      <th>std</th>\n      <td>28867.657797</td>\n      <td>0.423974</td>\n      <td>0.399615</td>\n      <td>0.283182</td>\n      <td>0.408184</td>\n      <td>0.335790</td>\n    </tr>\n    <tr>\n      <th>min</th>\n      <td>0.000000</td>\n      <td>0.100000</td>\n      <td>0.000000</td>\n      <td>0.600000</td>\n      <td>0.000000</td>\n      <td>0.000000</td>\n    </tr>\n    <tr>\n      <th>25%</th>\n      <td>24999.750000</td>\n      <td>0.400000</td>\n      <td>0.200000</td>\n      <td>0.800000</td>\n      <td>0.000000</td>\n      <td>0.000000</td>\n    </tr>\n    <tr>\n      <th>50%</th>\n      <td>49999.500000</td>\n      <td>0.700000</td>\n      <td>0.600000</td>\n      <td>1.000000</td>\n      <td>0.500000</td>\n      <td>0.048000</td>\n    </tr>\n    <tr>\n      <th>75%</th>\n      <td>74999.250000</td>\n      <td>1.000000</td>\n      <td>1.000000</td>\n      <td>1.200000</td>\n      <td>1.000000</td>\n      <td>0.300000</td>\n    </tr>\n    <tr>\n      <th>max</th>\n      <td>99999.000000</td>\n      <td>1.300000</td>\n      <td>1.200000</td>\n      <td>1.400000</td>\n      <td>1.000000</td>\n      <td>2.184000</td>\n    </tr>\n  </tbody>\n</table>\n</div>"
     },
     "execution_count": 52,
     "metadata": {},
     "output_type": "execute_result"
    }
   ],
   "source": [
    "# Obliczenie podstawowych parametrów statystycznych dla zbioru danych\n",
    "df.describe()"
   ]
  },
  {
   "cell_type": "markdown",
   "metadata": {},
   "source": [
    "## Wyniki w zbiorze danych można interpretować następująco\n",
    "- result<0.1 Roślina umarła\n",
    "- result>=0.1 and result<0.5 Roślina z mocno zaburzonym rozwojem\n",
    "- result>=0.5 and result<1.0 Roślina z zaburzonym rozwojem\n",
    "- result>=1.0 and result<1.3 Roślina normalnie rozwinięta\n",
    "- result>=1.3 and result<1.9 Roślina bardzo dobrze rozwinięta\n",
    "- result>=1.9 Roślina idealnie rozwinięta"
   ]
  },
  {
   "cell_type": "markdown",
   "metadata": {},
   "source": [
    "Symulację przeprowadzono dla 100.000 roślin, poniżej przedstawiono wyniki w formie tekstowej oraz wykresu kołowego."
   ]
  },
  {
   "cell_type": "code",
   "execution_count": 53,
   "metadata": {},
   "outputs": [
    {
     "data": {
      "text/plain": "58054"
     },
     "execution_count": 53,
     "metadata": {},
     "output_type": "execute_result"
    }
   ],
   "source": [
    "# Ilośc roślin które umarły\n",
    "df[df.result < 0.1].result.count()"
   ]
  },
  {
   "cell_type": "code",
   "execution_count": 54,
   "metadata": {},
   "outputs": [
    {
     "data": {
      "text/plain": "27185"
     },
     "execution_count": 54,
     "metadata": {},
     "output_type": "execute_result"
    }
   ],
   "source": [
    "# Ilość roślin z mocno zaburzonym rozwojem\n",
    "df[(df.result >= 0.1) & (df.result < 0.5)].result.count()"
   ]
  },
  {
   "cell_type": "code",
   "execution_count": 55,
   "metadata": {},
   "outputs": [
    {
     "data": {
      "text/plain": "10601"
     },
     "execution_count": 55,
     "metadata": {},
     "output_type": "execute_result"
    }
   ],
   "source": [
    "# Ilość roślin z zaburzonym rozwojem\n",
    "df[(df.result >= 0.5) & (df.result < 1.0)].result.count()"
   ]
  },
  {
   "cell_type": "code",
   "execution_count": 56,
   "metadata": {},
   "outputs": [
    {
     "data": {
      "text/plain": "2242"
     },
     "execution_count": 56,
     "metadata": {},
     "output_type": "execute_result"
    }
   ],
   "source": [
    "# Ilość roślin normalnie rozwiniętych\n",
    "df[(df.result >= 1.0) & (df.result < 1.3)].result.count()"
   ]
  },
  {
   "cell_type": "code",
   "execution_count": 57,
   "metadata": {},
   "outputs": [
    {
     "data": {
      "text/plain": "1719"
     },
     "execution_count": 57,
     "metadata": {},
     "output_type": "execute_result"
    }
   ],
   "source": [
    "# Ilość roślin bardzo dobrze rozwiniętych\n",
    "df[(df.result >= 1.3) & (df.result < 1.9)].result.count()"
   ]
  },
  {
   "cell_type": "code",
   "execution_count": 58,
   "metadata": {},
   "outputs": [
    {
     "data": {
      "text/plain": "199"
     },
     "execution_count": 58,
     "metadata": {},
     "output_type": "execute_result"
    }
   ],
   "source": [
    "# Ilość roślin idealnie rozwiniętych\n",
    "df[df.result >= 1.9].result.count()"
   ]
  },
  {
   "cell_type": "code",
   "execution_count": 59,
   "metadata": {},
   "outputs": [],
   "source": [
    "def get_label(row):\n",
    "    '''Funkcja do pobierania tekstowego wyniku symulacji na podstawie rezultatu'''\n",
    "    if row.result < 0.1:\n",
    "        return \"Roślina umarła\"\n",
    "    if 0.1 <= row.result < 0.5:\n",
    "        return \"Roślina z mocno zaburzonym rozwojem\"\n",
    "    if 0.5 <= row.result < 1.0:\n",
    "        return \"Roślina z zaburzonym rozwojem\"\n",
    "    if 1.0 <= row.result < 1.3:\n",
    "        return \"Roślina normalnie rozwinięta\"\n",
    "    if 1.3 <= row.result < 1.9:\n",
    "        return \"Roślina bardzo dobrze rozwinięta\"\n",
    "    if row.result >= 1.9:\n",
    "        return \"Roślina idealnie rozwinięta\"\n",
    "\n",
    "df[\"result_label\"] = df.apply(lambda row: get_label(row), axis=1)"
   ]
  },
  {
   "cell_type": "code",
   "execution_count": 60,
   "metadata": {},
   "outputs": [],
   "source": [
    "# Import biblioteki altair do rysowania wykresów\n",
    "import altair as alt"
   ]
  },
  {
   "cell_type": "code",
   "execution_count": 61,
   "metadata": {},
   "outputs": [
    {
     "name": "stderr",
     "output_type": "stream",
     "text": [
      "/Users/pp/Library/Caches/pypoetry/virtualenvs/plant-growth-simulation-4IH6NZ5e-py3.9/lib/python3.9/site-packages/altair/utils/core.py:317: FutureWarning: iteritems is deprecated and will be removed in a future version. Use .items instead.\n",
      "  for col_name, dtype in df.dtypes.iteritems():\n"
     ]
    },
    {
     "data": {
      "text/html": "\n<div id=\"altair-viz-cc7b715dcd004301bfdf96767785aa57\"></div>\n<script type=\"text/javascript\">\n  var VEGA_DEBUG = (typeof VEGA_DEBUG == \"undefined\") ? {} : VEGA_DEBUG;\n  (function(spec, embedOpt){\n    let outputDiv = document.currentScript.previousElementSibling;\n    if (outputDiv.id !== \"altair-viz-cc7b715dcd004301bfdf96767785aa57\") {\n      outputDiv = document.getElementById(\"altair-viz-cc7b715dcd004301bfdf96767785aa57\");\n    }\n    const paths = {\n      \"vega\": \"https://cdn.jsdelivr.net/npm//vega@5?noext\",\n      \"vega-lib\": \"https://cdn.jsdelivr.net/npm//vega-lib?noext\",\n      \"vega-lite\": \"https://cdn.jsdelivr.net/npm//vega-lite@4.17.0?noext\",\n      \"vega-embed\": \"https://cdn.jsdelivr.net/npm//vega-embed@6?noext\",\n    };\n\n    function maybeLoadScript(lib, version) {\n      var key = `${lib.replace(\"-\", \"\")}_version`;\n      return (VEGA_DEBUG[key] == version) ?\n        Promise.resolve(paths[lib]) :\n        new Promise(function(resolve, reject) {\n          var s = document.createElement('script');\n          document.getElementsByTagName(\"head\")[0].appendChild(s);\n          s.async = true;\n          s.onload = () => {\n            VEGA_DEBUG[key] = version;\n            return resolve(paths[lib]);\n          };\n          s.onerror = () => reject(`Error loading script: ${paths[lib]}`);\n          s.src = paths[lib];\n        });\n    }\n\n    function showError(err) {\n      outputDiv.innerHTML = `<div class=\"error\" style=\"color:red;\">${err}</div>`;\n      throw err;\n    }\n\n    function displayChart(vegaEmbed) {\n      vegaEmbed(outputDiv, spec, embedOpt)\n        .catch(err => showError(`Javascript Error: ${err.message}<br>This usually means there's a typo in your chart specification. See the javascript console for the full traceback.`));\n    }\n\n    if(typeof define === \"function\" && define.amd) {\n      requirejs.config({paths});\n      require([\"vega-embed\"], displayChart, err => showError(`Error loading script: ${err.message}`));\n    } else {\n      maybeLoadScript(\"vega\", \"5\")\n        .then(() => maybeLoadScript(\"vega-lite\", \"4.17.0\"))\n        .then(() => maybeLoadScript(\"vega-embed\", \"6\"))\n        .catch(showError)\n        .then(() => displayChart(vegaEmbed));\n    }\n  })({\"config\": {\"view\": {\"continuousWidth\": 400, \"continuousHeight\": 300}}, \"data\": {\"name\": \"data-f1d41a101124be3a26162250f39ba072\"}, \"mark\": \"arc\", \"encoding\": {\"color\": {\"field\": \"result_label\", \"type\": \"nominal\"}, \"theta\": {\"field\": \"counts\", \"type\": \"quantitative\"}, \"tooltip\": {\"field\": \"counts\", \"type\": \"quantitative\"}}, \"$schema\": \"https://vega.github.io/schema/vega-lite/v4.17.0.json\", \"datasets\": {\"data-f1d41a101124be3a26162250f39ba072\": [{\"result_label\": \"Ro\\u015blina bardzo dobrze rozwini\\u0119ta\", \"counts\": 1719}, {\"result_label\": \"Ro\\u015blina idealnie rozwini\\u0119ta\", \"counts\": 199}, {\"result_label\": \"Ro\\u015blina normalnie rozwini\\u0119ta\", \"counts\": 2242}, {\"result_label\": \"Ro\\u015blina umar\\u0142a\", \"counts\": 58054}, {\"result_label\": \"Ro\\u015blina z mocno zaburzonym rozwojem\", \"counts\": 27185}, {\"result_label\": \"Ro\\u015blina z zaburzonym rozwojem\", \"counts\": 10601}]}}, {\"mode\": \"vega-lite\"});\n</script>",
      "text/plain": "alt.Chart(...)"
     },
     "execution_count": 61,
     "metadata": {},
     "output_type": "execute_result"
    }
   ],
   "source": [
    "# Wykres radialny rozwoju roślin przy użyciu altair\n",
    "df2 = pd.DataFrame(df, columns=['id', 'result_label'])\n",
    "df2 = df2.groupby(['result_label']).count()\n",
    "df2 = df2.rename(columns={'id': 'counts'})\n",
    "df2[\"counts\"] = df2[\"counts\"].astype('int32')\n",
    "df2 = df2.reset_index(level=0)\n",
    "alt.Chart(df2).mark_arc().encode(\n",
    "    color='result_label', theta='counts', tooltip='counts'\n",
    ")"
   ]
  },
  {
   "cell_type": "code",
   "execution_count": 62,
   "metadata": {},
   "outputs": [
    {
     "data": {
      "text/plain": "4160"
     },
     "execution_count": 62,
     "metadata": {},
     "output_type": "execute_result"
    }
   ],
   "source": [
    "# Ilość roślin które się rozwinęły\n",
    "alive_count = df[df.result >= 1.9].result.count() + df[(df.result >= 1.3) & (df.result < 1.9)].result.count() + df[(df.result >= 1.0) & (df.result < 1.3)].result.count()\n",
    "alive_count"
   ]
  },
  {
   "cell_type": "code",
   "execution_count": 63,
   "metadata": {},
   "outputs": [
    {
     "data": {
      "text/plain": "0.0416"
     },
     "execution_count": 63,
     "metadata": {},
     "output_type": "execute_result"
    }
   ],
   "source": [
    "# Procent roślin które się rozwinęły\n",
    "alive_count / df.result.count()"
   ]
  },
  {
   "cell_type": "markdown",
   "metadata": {},
   "source": [
    "## Wnioski\n",
    "Powyżej przedstawiono ilość roślin które się rozwinęły jako wartość liczbowa i procentowa w zbiorze danych. Wartość jest mniejsza niż 5% co oznacza, że jedynie niewielka ilość roślin miała odpowiednie warunki do rozwoju.\n"
   ]
  }
 ],
 "metadata": {
  "kernelspec": {
   "display_name": "Python 3 (ipykernel)",
   "language": "python",
   "name": "python3"
  },
  "language_info": {
   "codemirror_mode": {
    "name": "ipython",
    "version": 3
   },
   "file_extension": ".py",
   "mimetype": "text/x-python",
   "name": "python",
   "nbconvert_exporter": "python",
   "pygments_lexer": "ipython3",
   "version": "3.9.6"
  }
 },
 "nbformat": 4,
 "nbformat_minor": 1
}
